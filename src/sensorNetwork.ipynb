{
 "cells": [
  {
   "cell_type": "markdown",
   "metadata": {
    "pycharm": {
     "name": "#%% md\n"
    }
   },
   "source": [
    "Katherine"
   ]
  },
  {
   "cell_type": "code",
   "execution_count": 1,
   "metadata": {},
   "outputs": [],
   "source": [
    "import random\n",
    "import numpy as np"
   ]
  },
  {
   "cell_type": "code",
   "execution_count": 2,
   "metadata": {},
   "outputs": [],
   "source": [
    "num_users = 10\n",
    "num_iterations = 20"
   ]
  },
  {
   "cell_type": "code",
   "execution_count": 3,
   "metadata": {
    "pycharm": {
     "name": "#%%\n"
    }
   },
   "outputs": [],
   "source": [
    "\"\"\"\n",
    "Can only read values from nodes, not write them (decentralized network)\n",
    "- Know if primary user is active\n",
    "- Know what Secondary Users exist, and what they believe/do\n",
    "\"\"\"\n",
    "class SensorNetwork:\n",
    "    users = [] #devices in the network\n",
    "    numChannels = 1 #available channels\n",
    "    primary_user_value = 0\n",
    "    data = [] #row 0 = PU, row 1-n = SU; z0 = channel use, z1=belief\n",
    "    clock = 0\n",
    "\n",
    "    def __init__(self, userlist):\n",
    "        self.users = userlist\n",
    "        self.data = np.zeros(shape = (len(users)+1, num_iterations, 3))\n",
    "\n",
    "    def update_users(self):\n",
    "        \"\"\"\n",
    "        Advance each Secondary User's clock one step\n",
    "        :return:\n",
    "        \"\"\"\n",
    "        # use a threshold to determine if primary user is active this cycle\n",
    "        x = random.random()\n",
    "        if x < 0.3:\n",
    "            primary_user_value = 1\n",
    "        else:\n",
    "            primary_user_value = 0\n",
    "            \n",
    "        i = 0\n",
    "        data[i, clock, 0] = primary_user_value\n",
    "        \n",
    "        for user in self.users:\n",
    "            i += 1\n",
    "            user.update(primary_user_value, clock)\n",
    "            data[i, clock, 0] = user.get_action()\n",
    "            data[i, clock, 1] = user.get_belief()\n",
    "            \n",
    "        clock += 1"
   ]
  },
  {
   "cell_type": "code",
   "execution_count": null,
   "metadata": {
    "pycharm": {
     "name": "#%%\n"
    }
   },
   "outputs": [],
   "source": []
  }
 ],
 "metadata": {
  "kernelspec": {
   "display_name": "Python 3",
   "language": "python",
   "name": "python3"
  },
  "language_info": {
   "codemirror_mode": {
    "name": "ipython",
    "version": 3
   },
   "file_extension": ".py",
   "mimetype": "text/x-python",
   "name": "python",
   "nbconvert_exporter": "python",
   "pygments_lexer": "ipython3",
   "version": "3.7.3"
  }
 },
 "nbformat": 4,
 "nbformat_minor": 1
}
