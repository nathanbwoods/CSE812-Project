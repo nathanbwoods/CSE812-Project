{
 "cells": [
  {
   "cell_type": "markdown",
   "source": [
    "Katherine"
   ],
   "metadata": {
    "collapsed": false,
    "pycharm": {
     "name": "#%% md\n"
    }
   }
  },
  {
   "cell_type": "code",
   "execution_count": null,
   "outputs": [],
   "source": [
    "\"\"\"\n",
    "Can only read values from nodes, not write them (decentralized network)\n",
    "- Know if primary user is active\n",
    "- Know what Secondary Users exist, and what they believe/do\n",
    "\"\"\"\n",
    "class SensorNetwork:\n",
    "    users = [] #devices in the network\n",
    "    numChannels = 1 #available channels\n",
    "\n",
    "    def __init__(self, userlist, channels):\n",
    "        self.users = userlist\n",
    "\n",
    "    def allocateChannel(self, val):\n",
    "        #go through users and determine which deserves a channel\n",
    "        if val < self.numChannels:\n",
    "            okay = True\n",
    "\n",
    "    def update_users(self):\n",
    "        \"\"\"\n",
    "        Advance each Secondary User's clock one step\n",
    "        :return:\n",
    "        \"\"\"\n",
    "        for user in self.users:\n",
    "            user.update(primary_user_value = x)"
   ],
   "metadata": {
    "collapsed": false,
    "pycharm": {
     "name": "#%%\n"
    }
   }
  },
  {
   "cell_type": "code",
   "execution_count": null,
   "outputs": [],
   "source": [],
   "metadata": {
    "collapsed": false,
    "pycharm": {
     "name": "#%%\n"
    }
   }
  }
 ],
 "metadata": {
  "kernelspec": {
   "display_name": "Python 3",
   "language": "python",
   "name": "python3"
  },
  "language_info": {
   "codemirror_mode": {
    "name": "ipython",
    "version": 2
   },
   "file_extension": ".py",
   "mimetype": "text/x-python",
   "name": "python",
   "nbconvert_exporter": "python",
   "pygments_lexer": "ipython2",
   "version": "2.7.6"
  }
 },
 "nbformat": 4,
 "nbformat_minor": 0
}