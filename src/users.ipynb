{
 "cells": [
  {
   "cell_type": "markdown",
   "metadata": {
    "collapsed": true,
    "pycharm": {
     "name": "#%% md\n"
    }
   },
   "source": [
    "Raghav - Implement malicious and benevolent users/algorithm"
   ]
  },
  {
   "cell_type": "code",
   "execution_count": null,
   "outputs": [],
   "source": [
    "class User:\n",
    "    clock = 0\n",
    "    id_value = 0 # this user's id for distinguishability\n",
    "    channelAllocated = False\n",
    "    timeSinceAllocation = 0 # elapsed time since this device used a channel\n",
    "\n",
    "    def __init__(self, id_val):\n",
    "        self.id_value = id_val\n",
    "\n",
    "class SecondaryUser(User):\n",
    "    \"\"\"\n",
    "    A \"good faith\" SU, no malicious behavior\n",
    "    \"\"\"\n",
    "    trustValue = 0 #user's evaluation of its own trustworthiness\n",
    "    users = [] #other users that this device is knows of\n",
    "    trustValues = [] #perceived trust values of other users\n",
    "\n",
    "    def synchronizeTrust(self):\n",
    "        \"\"\"\n",
    "        Communicate/receive trust values from other users.\n",
    "        Ignore broadcast procedures, they can get values from other users at any time.\n",
    "        :return:\n",
    "        \"\"\"\n",
    "        i = 0\n",
    "        for user in users:\n",
    "            #compare two trust values\n",
    "            dif = self.users[i].trustValue - self.trustValues[i]\n",
    "            i+=1\n",
    "\n",
    "    def update(self):\n",
    "        \"\"\"\n",
    "        Decide what actions to take, synchronize trust? Broadcast values?\n",
    "        :return:\n",
    "        \"\"\"\n",
    "        pass\n",
    "\n",
    "class MaliciousUser(SecondaryUser):\n",
    "    \"\"\"\n",
    "    Users with potential to be malicious, some strategy\n",
    "    \"\"\"\n",
    "    pass\n"
   ],
   "metadata": {
    "collapsed": false,
    "pycharm": {
     "name": "#%%\n"
    }
   }
  }
 ],
 "metadata": {
  "kernelspec": {
   "display_name": "Python 3",
   "language": "python",
   "name": "python3"
  },
  "language_info": {
   "codemirror_mode": {
    "name": "ipython",
    "version": 2
   },
   "file_extension": ".py",
   "mimetype": "text/x-python",
   "name": "python",
   "nbconvert_exporter": "python",
   "pygments_lexer": "ipython2",
   "version": "2.7.6"
  }
 },
 "nbformat": 4,
 "nbformat_minor": 0
}