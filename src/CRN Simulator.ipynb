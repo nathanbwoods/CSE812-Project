{
 "cells": [
  {
   "cell_type": "markdown",
   "metadata": {},
   "source": [
    "Lets simulate a CRN. We can run a loop for a set number of iterations where each iteration the sensor network can allocate channels to a primary user and secondary users can sense(query) and use unused channels, how they use the channel will affect their trustValue as assessed by other users. Every some number of iterations all the users will use trimessage communication to synchronize their trust values. Each iteration a fraction of secondary users can also try to be malicious by giving other users lower trust scores, giving themself a high trust score, or lying about whether the primary user is in the channel. Since we don't have a data fusion center, other users will have to \"catch\" these lies and adjust trust scores accordingly."
   ]
  },
  {
   "cell_type": "code",
   "execution_count": 1,
   "metadata": {},
   "outputs": [
    {
     "data": {
      "text/plain": [
       "<Figure size 640x480 with 1 Axes>"
      ]
     },
     "metadata": {},
     "output_type": "display_data"
    },
    {
     "name": "stdout",
     "output_type": "stream",
     "text": [
      "[array([[ 0.00000000e+00,  0.00000000e+00,  3.30334873e-02],\n",
      "       [ 0.00000000e+00,  0.00000000e+00,  9.29678863e-03],\n",
      "       [ 0.00000000e+00,  1.00000000e+00,  2.03696505e-03],\n",
      "       [ 0.00000000e+00,  0.00000000e+00, -1.86015619e-04],\n",
      "       [ 0.00000000e+00,  1.00000000e+00, -8.66903251e-04],\n",
      "       [ 0.00000000e+00,  0.00000000e+00, -1.07547377e-03],\n",
      "       [ 0.00000000e+00,  0.00000000e+00, -1.13936533e-03],\n",
      "       [ 0.00000000e+00,  0.00000000e+00, -1.15893757e-03],\n",
      "       [ 0.00000000e+00,  0.00000000e+00, -1.16493330e-03],\n",
      "       [ 0.00000000e+00,  0.00000000e+00, -1.16677003e-03]]), array([[ 0.00000000e+00,  0.00000000e+00,  1.63807363e-02],\n",
      "       [ 0.00000000e+00,  0.00000000e+00,  3.21785682e-03],\n",
      "       [ 0.00000000e+00,  1.00000000e+00,  3.51414563e-04],\n",
      "       [ 0.00000000e+00,  0.00000000e+00, -2.73363900e-04],\n",
      "       [ 0.00000000e+00,  1.00000000e+00, -4.09635814e-04],\n",
      "       [ 0.00000000e+00,  0.00000000e+00, -4.39389272e-04],\n",
      "       [ 1.00000000e+00,  0.00000000e+00, -4.45897419e-04],\n",
      "       [ 0.00000000e+00,  0.00000000e+00, -4.47325541e-04],\n",
      "       [ 0.00000000e+00,  0.00000000e+00, -4.47640670e-04],\n",
      "       [ 0.00000000e+00,  0.00000000e+00, -4.47710871e-04]]), array([[ 1.00000000e+00,  0.00000000e+00,  1.29852058e-02],\n",
      "       [ 0.00000000e+00,  0.00000000e+00,  1.97466512e-03],\n",
      "       [ 0.00000000e+00,  1.00000000e+00, -1.02279136e-04],\n",
      "       [ 1.00000000e+00,  0.00000000e+00, -4.94488581e-04],\n",
      "       [ 0.00000000e+00,  1.00000000e+00, -5.68739913e-04],\n",
      "       [ 0.00000000e+00,  0.00000000e+00, -5.82914644e-04],\n",
      "       [ 0.00000000e+00,  0.00000000e+00, -5.85694540e-04],\n",
      "       [ 0.00000000e+00,  0.00000000e+00, -5.86284897e-04],\n",
      "       [ 1.00000000e+00,  0.00000000e+00, -5.86436886e-04],\n",
      "       [ 1.00000000e+00,  0.00000000e+00, -5.86490429e-04]]), array([[ 0.00000000e+00,  0.00000000e+00,  5.29392979e-02],\n",
      "       [ 1.00000000e+00,  0.00000000e+00,  1.87900253e-02],\n",
      "       [ 0.00000000e+00,  1.00000000e+00,  5.71757817e-03],\n",
      "       [ 0.00000000e+00,  0.00000000e+00,  7.04811729e-04],\n",
      "       [ 0.00000000e+00,  1.00000000e+00, -1.21816167e-03],\n",
      "       [ 0.00000000e+00,  0.00000000e+00, -1.95588121e-03],\n",
      "       [ 0.00000000e+00,  0.00000000e+00, -2.23888023e-03],\n",
      "       [ 1.00000000e+00,  0.00000000e+00, -2.34743258e-03],\n",
      "       [ 1.00000000e+00,  0.00000000e+00, -2.38906671e-03],\n",
      "       [ 1.00000000e+00,  0.00000000e+00, -2.40503340e-03]]), array([[ 0.00000000e+00,  0.00000000e+00,  3.30334873e-02],\n",
      "       [ 0.00000000e+00,  0.00000000e+00,  9.29678863e-03],\n",
      "       [ 0.00000000e+00,  1.00000000e+00,  2.03696505e-03],\n",
      "       [ 0.00000000e+00,  0.00000000e+00, -1.86015619e-04],\n",
      "       [ 0.00000000e+00,  1.00000000e+00, -8.66903251e-04],\n",
      "       [ 0.00000000e+00,  0.00000000e+00, -1.07547377e-03],\n",
      "       [ 0.00000000e+00,  0.00000000e+00, -1.13936533e-03],\n",
      "       [ 0.00000000e+00,  0.00000000e+00, -1.15893757e-03],\n",
      "       [ 0.00000000e+00,  0.00000000e+00, -1.16493330e-03],\n",
      "       [ 0.00000000e+00,  0.00000000e+00, -1.16677003e-03]]), array([[0.        , 1.        , 0.40057981],\n",
      "       [0.        , 1.        , 0.44179515],\n",
      "       [0.        , 0.        , 0.46707238],\n",
      "       [0.        , 1.        , 0.48264829],\n",
      "       [0.        , 0.        , 0.49227814],\n",
      "       [0.        , 1.        , 0.49824458],\n",
      "       [0.        , 1.        , 0.50194637],\n",
      "       [0.        , 1.        , 0.50424521],\n",
      "       [0.        , 1.        , 0.50567368],\n",
      "       [0.        , 1.        , 0.50656171]]), array([[ 0.00000000e+00,  0.00000000e+00,  1.90939542e-02],\n",
      "       [ 0.00000000e+00,  0.00000000e+00,  4.36141634e-03],\n",
      "       [ 0.00000000e+00,  1.00000000e+00,  5.89317790e-04],\n",
      "       [ 0.00000000e+00,  0.00000000e+00, -3.78070405e-04],\n",
      "       [ 0.00000000e+00,  1.00000000e+00, -6.26384127e-04],\n",
      "       [ 0.00000000e+00,  0.00000000e+00, -6.90190910e-04],\n",
      "       [ 0.00000000e+00,  0.00000000e+00, -7.06616248e-04],\n",
      "       [ 0.00000000e+00,  0.00000000e+00, -7.10858025e-04],\n",
      "       [ 0.00000000e+00,  0.00000000e+00, -7.11959729e-04],\n",
      "       [ 0.00000000e+00,  0.00000000e+00, -7.12248831e-04]]), array([[ 0.00000000e+00,  0.00000000e+00,  2.24624044e-02],\n",
      "       [ 0.00000000e+00,  0.00000000e+00,  5.61552744e-03],\n",
      "       [ 0.00000000e+00,  1.00000000e+00,  9.10569394e-04],\n",
      "       [ 0.00000000e+00,  0.00000000e+00, -4.07508394e-04],\n",
      "       [ 0.00000000e+00,  1.00000000e+00, -7.77607254e-04],\n",
      "       [ 0.00000000e+00,  0.00000000e+00, -8.81886057e-04],\n",
      "       [ 0.00000000e+00,  0.00000000e+00, -9.11466998e-04],\n",
      "       [ 0.00000000e+00,  0.00000000e+00, -9.19975815e-04],\n",
      "       [ 0.00000000e+00,  0.00000000e+00, -9.22493562e-04],\n",
      "       [ 1.00000000e+00,  0.00000000e+00, -9.23280358e-04]]), array([[0.        , 1.        , 0.40057981],\n",
      "       [0.        , 1.        , 0.44179515],\n",
      "       [1.        , 0.        , 0.46707238],\n",
      "       [0.        , 1.        , 0.48264829],\n",
      "       [1.        , 0.        , 0.49227814],\n",
      "       [0.        , 1.        , 0.49824458],\n",
      "       [0.        , 1.        , 0.50194637],\n",
      "       [0.        , 1.        , 0.50424521],\n",
      "       [0.        , 1.        , 0.50567368],\n",
      "       [0.        , 1.        , 0.50656171]]), array([[ 0.00000000e+00,  0.00000000e+00,  1.88753958e-02],\n",
      "       [ 1.00000000e+00,  0.00000000e+00,  4.20612084e-03],\n",
      "       [ 0.00000000e+00,  1.00000000e+00,  4.66326849e-04],\n",
      "       [ 1.00000000e+00,  0.00000000e+00, -4.90136706e-04],\n",
      "       [ 0.00000000e+00,  1.00000000e+00, -7.35428665e-04],\n",
      "       [ 0.00000000e+00,  0.00000000e+00, -7.98643248e-04],\n",
      "       [ 0.00000000e+00,  0.00000000e+00, -8.15106535e-04],\n",
      "       [ 1.00000000e+00,  0.00000000e+00, -8.19494217e-04],\n",
      "       [ 0.00000000e+00,  0.00000000e+00, -8.20721935e-04],\n",
      "       [ 0.00000000e+00,  0.00000000e+00, -8.21098961e-04]]), array([[0.        , 1.        , 0.21433006],\n",
      "       [0.        , 1.        , 0.2350217 ],\n",
      "       [0.        , 0.        , 0.24398361],\n",
      "       [0.        , 1.        , 0.24788481],\n",
      "       [0.        , 0.        , 0.24959731],\n",
      "       [0.        , 1.        , 0.25035886],\n",
      "       [0.        , 1.        , 0.25070373],\n",
      "       [0.        , 1.        , 0.25086365],\n",
      "       [0.        , 1.        , 0.25093996],\n",
      "       [0.        , 1.        , 0.2509776 ]]), array([[ 0.00000000e+00,  0.00000000e+00,  2.26114346e-02],\n",
      "       [ 0.00000000e+00,  0.00000000e+00,  5.26781178e-03],\n",
      "       [ 0.00000000e+00,  1.00000000e+00,  8.53504838e-04],\n",
      "       [ 1.00000000e+00,  0.00000000e+00, -2.71534632e-04],\n",
      "       [ 0.00000000e+00,  1.00000000e+00, -5.58530492e-04],\n",
      "       [ 1.00000000e+00,  0.00000000e+00, -6.31834131e-04],\n",
      "       [ 0.00000000e+00,  0.00000000e+00, -6.50595986e-04],\n",
      "       [ 0.00000000e+00,  0.00000000e+00, -6.55415070e-04],\n",
      "       [ 0.00000000e+00,  0.00000000e+00, -6.56660340e-04],\n",
      "       [ 1.00000000e+00,  0.00000000e+00, -6.56985368e-04]]), array([[ 1.        ,  0.        ,  0.06169748],\n",
      "       [ 0.        ,  0.        ,  0.02199113],\n",
      "       [ 0.        ,  1.        ,  0.00690617],\n",
      "       [ 0.        ,  0.        ,  0.00116176],\n",
      "       [ 0.        ,  1.        , -0.00102938],\n",
      "       [ 0.        ,  0.        , -0.00186647],\n",
      "       [ 0.        ,  0.        , -0.00218689],\n",
      "       [ 1.        ,  0.        , -0.00230989],\n",
      "       [ 1.        ,  0.        , -0.0023573 ],\n",
      "       [ 0.        ,  0.        , -0.0023757 ]]), array([[ 0.        ,  0.        ,  0.19842999],\n",
      "       [ 0.        ,  0.        ,  0.1161725 ],\n",
      "       [ 0.        ,  1.        ,  0.06548041],\n",
      "       [ 0.        ,  0.        ,  0.03411903],\n",
      "       [ 0.        ,  1.        ,  0.01468009],\n",
      "       [ 1.        ,  0.        ,  0.00261913],\n",
      "       [ 1.        ,  0.        , -0.00486824],\n",
      "       [ 1.        ,  0.        , -0.00951784],\n",
      "       [ 1.        ,  0.        , -0.01240574],\n",
      "       [ 0.        ,  0.        , -0.01419964]]), array([[ 0.00000000e+00,  0.00000000e+00,  7.07223302e-02],\n",
      "       [ 0.00000000e+00,  0.00000000e+00,  2.90227035e-02],\n",
      "       [ 0.00000000e+00,  1.00000000e+00,  1.07231999e-02],\n",
      "       [ 0.00000000e+00,  0.00000000e+00,  2.67344483e-03],\n",
      "       [ 0.00000000e+00,  1.00000000e+00, -8.69889719e-04],\n",
      "       [ 0.00000000e+00,  0.00000000e+00, -2.42980632e-03],\n",
      "       [ 0.00000000e+00,  0.00000000e+00, -3.11651642e-03],\n",
      "       [ 1.00000000e+00,  0.00000000e+00, -3.41879028e-03],\n",
      "       [ 0.00000000e+00,  0.00000000e+00, -3.55182742e-03],\n",
      "       [ 0.00000000e+00,  0.00000000e+00, -3.61037206e-03]])]\n"
     ]
    }
   ],
   "source": [
    "import math\n",
    "import random\n",
    "import matplotlib.pyplot as plt\n",
    "import pandas as pd\n",
    "import numpy as np\n",
    "\n",
    "num_iterations = 10\n",
    "malicious_proportion = 0.2\n",
    "\n",
    "\n",
    "class SensorNetwork:\n",
    "    \"\"\"\n",
    "    Can only read values from nodes, not write them (decentralized network)\n",
    "    - Know if primary user is active\n",
    "    - Know what Secondary Users exist, and what they believe/do\n",
    "    \"\"\"\n",
    "    users = []  # devices in the network\n",
    "    data = []  # row 0 to n - 1 = SU; z0 = channel use, z1=belief\n",
    "    clock = 0\n",
    "\n",
    "    def __init__(self, user_list, primary_user):\n",
    "        self.users = user_list\n",
    "        self.primary_user = primary_user\n",
    "        self.data = np.zeros(shape=(len(users), num_iterations, 3))\n",
    "\n",
    "    def update_users(self):\n",
    "        \"\"\"\n",
    "        Advance each Secondary User's clock one step\n",
    "        :return:\n",
    "        \"\"\"\n",
    "        signal = random.randint(0, 1)\n",
    "        self.data[0, self.clock, 0] = signal\n",
    "\n",
    "        # Broadcast current beliefs to neighbors\n",
    "        for user in self.users:\n",
    "            user.update(self.clock, self.primary_user_strength(user, signal))\n",
    "\n",
    "        # Update personal beliefs based on information received from neighbors, vote\n",
    "        for user in self.users:\n",
    "            user.update_pu_belief()\n",
    "            user.update_trust_values()\n",
    "            user.update_pu_belief()\n",
    "            user.vote()\n",
    "\n",
    "        # Tally votes, collect state information\n",
    "        for index, user in enumerate(self.users):\n",
    "            user.tally_votes()\n",
    "            self.data[index, self.clock, 0] = user.is_channel_allocated()\n",
    "            self.data[index, self.clock, 1] = user.is_primary_active()\n",
    "            self.data[index, self.clock, 2] = user.get_trust_values()[index]\n",
    "\n",
    "        self.clock += 1\n",
    "\n",
    "    def get_data(self):\n",
    "        return self.data\n",
    "\n",
    "    def primary_user_strength(self, user, signal):\n",
    "        distance = math.sqrt((user.x - self.primary_user.x) ** 2 + (user.y - self.primary_user.y) ** 2)\n",
    "        noise = (random.random() - 0.5) / 4\n",
    "        return signal + noise * distance ** 2\n",
    "\n",
    "\n",
    "class PrimaryUser:\n",
    "    x = 0\n",
    "    y = 0\n",
    "\n",
    "    def __init__(self, x, y):\n",
    "        self.x = x\n",
    "        self.y = y\n",
    "\n",
    "\n",
    "class SecondaryUser:\n",
    "    \"\"\"\n",
    "    A \"good faith\" SU, no malicious behavior\n",
    "    \"\"\"\n",
    "    x = 0  # x position\n",
    "    y = 0  # y position\n",
    "    clock = 0  # Keeps track of the logical time for a device\n",
    "    id = 0  # This user's id for distinguishability\n",
    "    channel_allocated = False  # Boolean, is the channel allocated for this device\n",
    "    primary_user_value = False  # The belief on whether or not primary user is in the channel\n",
    "    neighbors = []  # neighbors this device can broadcast to\n",
    "    trust_values = {}  # The perceived trust values of other users\n",
    "    received_activity = {}  # Received values for activity of primary user in this epoch\n",
    "    received_trust = {}  # Received values for trustworthiness of other users in this epoch\n",
    "    ballot = {}  # Received votes for bandwidth allocation in this epoch\n",
    "\n",
    "    def __init__(self, id_val, x, y):\n",
    "        self.id = id_val\n",
    "        self.x = x\n",
    "        self.y = y\n",
    "\n",
    "    def set_neighbors(self, neighbors):\n",
    "        self.neighbors = neighbors\n",
    "        self.trust_values = {neighbor.id: 1 / len(neighbors) for neighbor in neighbors}\n",
    "\n",
    "    # Inspired by the following StackOverflow thread\n",
    "    # https://stackoverflow.com/questions/10324015/fitness-proportionate-selection-roulette-wheel-selection-in-python\n",
    "    def vote(self):\n",
    "        choice = random.choices(self.neighbors, weights=self.trust_values)[0]\n",
    "        for neighbor in self.neighbors:\n",
    "            neighbor.receive_vote(choice)\n",
    "        self.received_activity = {}\n",
    "        self.received_trust = {}\n",
    "\n",
    "    def receive_vote(self, node):\n",
    "        if node.id in self.ballot:\n",
    "            self.ballot[node.id] += 1\n",
    "        elif len(self.ballot.keys()) > 2:\n",
    "            pop_list = []\n",
    "            for key in self.ballot.keys():\n",
    "                if self.ballot[key] > 1:\n",
    "                    self.ballot[key] -= 1\n",
    "                else:\n",
    "                    pop_list.append(key)\n",
    "            for key in pop_list:\n",
    "                self.ballot.pop(key)\n",
    "        else:\n",
    "            self.ballot[node.id] = 1\n",
    "\n",
    "    def tally_votes(self):\n",
    "        for idx, votes in self.ballot.items():\n",
    "            if idx == self.id and not self.primary_user_value:\n",
    "                self.channel_allocated = True\n",
    "\n",
    "    def update(self, clock, primary_user_value):\n",
    "        self.channel_allocated = False\n",
    "        self.clock = clock\n",
    "        self.primary_user_value = int(primary_user_value > 0.5)\n",
    "        self.ballot = {}\n",
    "        self.broadcast()\n",
    "\n",
    "    def update_trust_values(self):\n",
    "        \"\"\"\n",
    "        Communicate/receive trust values from other users.\n",
    "        Ignore broadcast procedures, they can get values from other users at any time.\n",
    "        \"\"\"\n",
    "        neighbor_ids = [neighbor.id for neighbor in self.neighbors]\n",
    "\n",
    "        trust_df = pd.DataFrame(self.received_trust)\n",
    "        trust_df['average'] = trust_df.mean(axis=0)\n",
    "\n",
    "        new_trust_values = {}\n",
    "\n",
    "        for idx in trust_df.columns:\n",
    "            if idx in neighbor_ids:\n",
    "                sse_trust = ((trust_df[idx] - trust_df['average']) ** 2).mean() ** 0.5\n",
    "                disagreement_penalty = -int(self.received_activity[idx] != self.primary_user_value)\n",
    "                new_trust_values[idx] = self.trust_values[\n",
    "                                           idx] * 0.6 + 0.2 * 1.1 ** -sse_trust + 0.2 * disagreement_penalty\n",
    "\n",
    "        sum_new_trust = sum(new_trust_values.values())\n",
    "        self.trust_values = {idx: value / sum_new_trust for idx, value in new_trust_values.items()}\n",
    "\n",
    "    def update_pu_belief(self):\n",
    "        weighted_avg = sum(self.trust_values[neighbor.id] * self.received_activity[neighbor.id] for neighbor in\n",
    "                           self.neighbors) * 0.8 + 0.2 * self.primary_user_value\n",
    "        self.primary_user_value = weighted_avg > 0.5\n",
    "\n",
    "    def broadcast(self):\n",
    "        \"\"\"\n",
    "        Broadcast values to all other users\n",
    "        \"\"\"\n",
    "        # For all users in the network, make them recieve\n",
    "        # the trust values of this particular instance\n",
    "        for neighbor in self.neighbors:\n",
    "            neighbor.receive_broadcast(self.id, self.trust_values, self.primary_user_value)\n",
    "\n",
    "    def receive_broadcast(self, sender_id, trust_values, pu_presence):\n",
    "        \"\"\"\n",
    "        Recieve a broadcast of trust values from another device and update\n",
    "        the instance's trust values accordingly\n",
    "        \"\"\"\n",
    "        # compare the nodes trust values and use that as a weight to update the trust\n",
    "        # values of the device\n",
    "        self.received_trust[sender_id] = trust_values\n",
    "        self.received_activity[sender_id] = pu_presence\n",
    "\n",
    "    def is_channel_allocated(self):\n",
    "        \"\"\":\n",
    "        return: boolean true if channel is allocated to this SU\n",
    "        \"\"\"\n",
    "        return self.channel_allocated\n",
    "\n",
    "    def is_primary_active(self):\n",
    "        \"\"\"\n",
    "        :return: boolean true if channel is believed to be allocated to PU\n",
    "        \"\"\"\n",
    "        return self.primary_user_value\n",
    "\n",
    "    def get_trust_values(self):\n",
    "        \"\"\"\n",
    "        :return: int the trust value\n",
    "        \"\"\"\n",
    "        return self.trust_values\n",
    "\n",
    "\n",
    "class MaliciousUser(SecondaryUser):\n",
    "    \"\"\"\n",
    "    Users with potential to be malicious, some strategy:\n",
    "    -Selfish SSDF: Falsely report that PU is present, in order to gain exclusive access to the desired\n",
    "    spectrum.\n",
    "    - Interference SSDF: Falsely report that PU is not present, in order to cause interference to PU.\n",
    "    - Confusing SSDF: Randomly reports a true or false value for primary user energy, preventing a\n",
    "    consensus.\n",
    "    \"\"\"\n",
    "\n",
    "    def broadcast(self):\n",
    "        for neighbor in self.neighbors:\n",
    "            neighbor.receive_broadcast(self.id, self.trust_values, not self.primary_user_value)\n",
    "\n",
    "    def SelfishSSDF(self):\n",
    "        if not self.is_primary_active():\n",
    "            self.primary_user_value = True\n",
    "\n",
    "    def InterferenceSSDF(self):\n",
    "        if self.is_primary_active():\n",
    "            self.primary_user_value = False\n",
    "\n",
    "    def ConfusingSSDF(self):\n",
    "        z = random.random()\n",
    "        if z < 0.5:\n",
    "            self.primary_user_value = True\n",
    "        else:\n",
    "            self.primary_user_value = False\n",
    "\n",
    "\n",
    "def generate_point(mean_x, mean_y, deviation_x, deviation_y):\n",
    "    return random.gauss(mean_x, deviation_x), random.gauss(mean_y, deviation_y)\n",
    "\n",
    "\n",
    "def discover_neighbors(node, user_list):\n",
    "    import scipy.spatial as spatial\n",
    "\n",
    "    points = np.array([(user.x, user.y) for user in user_list])\n",
    "    point_tree = spatial.cKDTree(points)\n",
    "    neighbor_indices = point_tree.query_ball_point((node.x, node.y), 0.3)\n",
    "    return [user_list[idx] for idx in neighbor_indices]\n",
    "\n",
    "\n",
    "def initializeUsers():\n",
    "    new_users = []\n",
    "    # Add 1 primary User\n",
    "    # Add Secondary Users to network\n",
    "    cluster_mean_x = 1\n",
    "    cluster_mean_y = 1\n",
    "    cluster_deviation_x = 0.5\n",
    "    cluster_deviation_y = 0.5\n",
    "    point_deviation_x = 0.2\n",
    "    point_deviation_y = 0.2\n",
    "\n",
    "    number_of_clusters = 3\n",
    "    points_per_cluster = 20\n",
    "\n",
    "    cluster_centers = [generate_point(cluster_mean_x,\n",
    "                                      cluster_mean_y,\n",
    "                                      cluster_deviation_x,\n",
    "                                      cluster_deviation_y)\n",
    "                       for _ in range(number_of_clusters)]\n",
    "\n",
    "    points = [generate_point(center_x,\n",
    "                             center_y,\n",
    "                             point_deviation_x,\n",
    "                             point_deviation_y)\n",
    "              for center_x, center_y in cluster_centers\n",
    "              for _ in range(points_per_cluster)]\n",
    "\n",
    "    malicious_user_idx = []\n",
    "    for idx, p in enumerate(points):\n",
    "        x = random.random()\n",
    "        if x > malicious_proportion:\n",
    "            new_users.append(SecondaryUser(idx, p[0], p[1]))\n",
    "        else:\n",
    "            new_users.append(MaliciousUser(idx, p[0], p[1]))\n",
    "            malicious_user_idx.append(idx)\n",
    "\n",
    "    for user in new_users:\n",
    "        user.set_neighbors(discover_neighbors(user, new_users))\n",
    "    return new_users, malicious_user_idx\n",
    "\n",
    "\n",
    "def plot_users(users, primary_user, malicious_users):\n",
    "    plt.scatter([user.x for user in users], [user.y for user in users])\n",
    "    plt.scatter(primary_user.x, primary_user.y, c=\"red\")\n",
    "    plt.scatter([users[i].x for i in malicious_users], [users[i].y for i in malicious_users], c=\"yellow\")\n",
    "    plt.show()\n",
    "\n",
    "\n",
    "if __name__ == '__main__':\n",
    "    users, malicious_users = initializeUsers()\n",
    "    primary = PrimaryUser(1, 1)\n",
    "    net = SensorNetwork(users, primary)\n",
    "    for i in range(num_iterations):\n",
    "        net.update_users()\n",
    "    plot_users(users, primary, malicious_users)\n",
    "    data = net.get_data()\n",
    "    print([data[x] for x in malicious_users])\n"
   ]
  },
  {
   "cell_type": "code",
   "execution_count": 2,
   "metadata": {},
   "outputs": [
    {
     "data": {
      "image/png": "[encoded data removed]",
      "text/plain": [
       "<Figure size 432x288 with 1 Axes>"
      ]
     },
     "metadata": {
      "needs_background": "light"
     },
     "output_type": "display_data"
    }
   ],
   "source": [
    "plot_users(users, primary, malicious_users)"
   ]
  },
  {
   "cell_type": "code",
   "execution_count": 7,
   "metadata": {},
   "outputs": [
    {
     "data": {
      "text/plain": [
       "[<matplotlib.lines.Line2D at 0x246384f9588>]"
      ]
     },
     "execution_count": 7,
     "metadata": {},
     "output_type": "execute_result"
    },
    {
     "data": {
      "image/png": "[encoded data removed]",
      "text/plain": [
       "<Figure size 432x288 with 8 Axes>"
      ]
     },
     "metadata": {
      "needs_background": "light"
     },
     "output_type": "display_data"
    }
   ],
   "source": [
    "#channel allocated beliefs for specific iterations\n",
    "data = net.get_data()\n",
    "x = np.arange(0, 60)\n",
    "fig, ax = plt.subplots(4, 2, sharex='col', sharey='row')\n",
    "ax[0][0].set_xlabel('User ID')\n",
    "ax[0][0].set_ylabel('Ischannel allocated?')\n",
    "\n",
    "ax[0][0].plot(x, data[0:60,0,0], c = \"r\")\n",
    "ax[0][1].plot(x, data[0:60,1,0], c = \"b\")\n",
    "ax[1][0].plot(x, data[0:60,2,0], c = \"r\")\n",
    "ax[1][1].plot(x, data[0:60,3,0], c = \"b\")\n",
    "\n",
    "ax[2][0].plot(x, data[0:60,4,0], c = \"r\")\n",
    "ax[2][1].plot(x, data[0:60,5,0], c = \"b\")\n",
    "ax[3][0].plot(x, data[0:60,6,0], c = \"r\")\n",
    "ax[3][1].plot(x, data[0:60,7,0], c = \"b\")"
   ]
  },
  {
   "cell_type": "code",
   "execution_count": 8,
   "metadata": {},
   "outputs": [
    {
     "data": {
      "text/plain": [
       "[<matplotlib.lines.Line2D at 0x246387504a8>]"
      ]
     },
     "execution_count": 8,
     "metadata": {},
     "output_type": "execute_result"
    },
    {
     "data": {
      "image/png": "[encoded data removed]",
      "text/plain": [
       "<Figure size 432x288 with 8 Axes>"
      ]
     },
     "metadata": {
      "needs_background": "light"
     },
     "output_type": "display_data"
    }
   ],
   "source": [
    "#channel allocated beliefs for specific users\n",
    "# red is malicious\n",
    "#blue is normal\n",
    "data = net.get_data()\n",
    "x = np.arange(0, 10)\n",
    "fig, ax = plt.subplots(4, 2, sharex='col', sharey='row')\n",
    "ax[0][0].set_xlabel('Time (iterations)')\n",
    "ax[0][0].set_ylabel('Ischannel allocated?')\n",
    "\n",
    "ax[0][0].plot(x, data[8,0:10,0], c = \"r\")\n",
    "ax[0][1].plot(x, data[3,0:10,0], c = \"b\")\n",
    "ax[1][0].plot(x, data[18,0:10,0], c = \"r\")\n",
    "ax[1][1].plot(x, data[10,0:10,0], c = \"b\")\n",
    "\n",
    "ax[2][0].plot(x, data[25,0:10,0], c = \"r\")\n",
    "ax[2][1].plot(x, data[30,0:10,0], c = \"b\")\n",
    "ax[3][0].plot(x,data[58,0:10,0], c = \"r\")\n",
    "ax[3][1].plot(x, data[59,0:10,0], c = \"b\")"
   ]
  },
  {
   "cell_type": "code",
   "execution_count": 9,
   "metadata": {},
   "outputs": [
    {
     "data": {
      "text/plain": [
       "[<matplotlib.lines.Line2D at 0x246389be470>]"
      ]
     },
     "execution_count": 9,
     "metadata": {},
     "output_type": "execute_result"
    },
    {
     "data": {
      "image/png": "[encoded data removed]",
      "text/plain": [
       "<Figure size 432x288 with 8 Axes>"
      ]
     },
     "metadata": {
      "needs_background": "light"
     },
     "output_type": "display_data"
    }
   ],
   "source": [
    "#primary user active beliefs for specific iterations\n",
    "data = net.get_data()\n",
    "x = np.arange(0, 60)\n",
    "fig, ax = plt.subplots(4, 2, sharex='col', sharey='row')\n",
    "ax[0][0].set_xlabel('User ID')\n",
    "ax[0][0].set_ylabel('Is primary user active?')\n",
    "\n",
    "ax[0][0].plot(x, data[0:60,0,1], c = \"r\")\n",
    "ax[0][1].plot(x, data[0:60,1,1], c = \"b\")\n",
    "ax[1][0].plot(x, data[0:60,2,1], c = \"r\")\n",
    "ax[1][1].plot(x, data[0:60,3,1], c = \"b\")\n",
    "\n",
    "ax[2][0].plot(x, data[0:60,4,1], c = \"r\")\n",
    "ax[2][1].plot(x, data[0:60,5,1], c = \"b\")\n",
    "ax[3][0].plot(x, data[0:60,6,1], c = \"r\")\n",
    "ax[3][1].plot(x, data[0:60,7,1], c = \"b\")"
   ]
  },
  {
   "cell_type": "code",
   "execution_count": 10,
   "metadata": {},
   "outputs": [
    {
     "data": {
      "text/plain": [
       "[<matplotlib.lines.Line2D at 0x24638c04a20>]"
      ]
     },
     "execution_count": 10,
     "metadata": {},
     "output_type": "execute_result"
    },
    {
     "data": {
      "image/png": "[encoded data removed]",
      "text/plain": [
       "<Figure size 432x288 with 8 Axes>"
      ]
     },
     "metadata": {
      "needs_background": "light"
     },
     "output_type": "display_data"
    }
   ],
   "source": [
    "#primary user active beliefs for specific users\n",
    "# red is malicious\n",
    "#blue is normal\n",
    "data = net.get_data()\n",
    "x = np.arange(0, 10)\n",
    "fig, ax = plt.subplots(4, 2, sharex='col', sharey='row')\n",
    "ax[0][0].set_xlabel('Time (iterations)')\n",
    "ax[0][0].set_ylabel('Is primary user active?')\n",
    "\n",
    "ax[0][0].plot(x, data[8,0:10,1], c = \"r\")\n",
    "ax[0][1].plot(x, data[3,0:10,1], c = \"b\")\n",
    "ax[1][0].plot(x, data[18,0:10,1], c = \"r\")\n",
    "ax[1][1].plot(x, data[10,0:10,1], c = \"b\")\n",
    "\n",
    "ax[2][0].plot(x, data[25,0:10,1], c = \"r\")\n",
    "ax[2][1].plot(x, data[30,0:10,1], c = \"b\")\n",
    "ax[3][0].plot(x,data[58,0:10,1], c = \"r\")\n",
    "ax[3][1].plot(x, data[59,0:10,1], c = \"b\")"
   ]
  },
  {
   "cell_type": "code",
   "execution_count": 46,
   "metadata": {},
   "outputs": [
    {
     "data": {
      "text/plain": [
       "[<matplotlib.lines.Line2D at 0x177174b63c8>]"
      ]
     },
     "execution_count": 46,
     "metadata": {},
     "output_type": "execute_result"
    },
    {
     "data": {
      "image/png": "[encoded data removed]",
      "text/plain": [
       "<Figure size 432x288 with 8 Axes>"
      ]
     },
     "metadata": {
      "needs_background": "light"
     },
     "output_type": "display_data"
    }
   ],
   "source": [
    "# Trust values over time for different users\n",
    "# red is malicious\n",
    "#blue is normal\n",
    "x = np.arange(0, 10)\n",
    "fig, ax = plt.subplots(4, 2,constrained_layout=True)\n",
    "fig.suptitle('Trust values for Malicious (red) and Normal Users')\n",
    "ax[0][0].set_xlabel('Time (iterations)')\n",
    "ax[0][0].set_ylabel('Trust Values')\n",
    "\n",
    "ax[0][0].plot(x, data[8,0:10,2], c = \"r\")\n",
    "ax[0][1].plot(x, data[3,0:10,2], c = \"b\")\n",
    "ax[1][0].plot(x, data[18,0:10,2], c = \"r\")\n",
    "ax[1][1].plot(x, data[10,0:10,2], c = \"b\")\n",
    "\n",
    "ax[2][0].plot(x, data[25,0:10,2], c = \"r\")\n",
    "ax[2][1].plot(x, data[30,0:10,2], c = \"b\")\n",
    "ax[3][0].plot(x,data[58,0:10,2], c = \"r\")\n",
    "ax[3][1].plot(x, data[59,0:10,2], c = \"b\")"
   ]
  },
  {
   "cell_type": "code",
   "execution_count": 28,
   "metadata": {},
   "outputs": [
    {
     "data": {
      "text/plain": [
       "[1, 8, 18, 19, 25, 29, 36, 38, 54, 55, 58]"
      ]
     },
     "execution_count": 28,
     "metadata": {},
     "output_type": "execute_result"
    }
   ],
   "source": [
    "malicious_users"
   ]
  },
  {
   "cell_type": "code",
   "execution_count": null,
   "metadata": {},
   "outputs": [],
   "source": []
  }
 ],
 "metadata": {
  "kernelspec": {
   "display_name": "Python 3",
   "language": "python",
   "name": "python3"
  },
  "language_info": {
   "codemirror_mode": {
    "name": "ipython",
    "version": 3
   },
   "file_extension": ".py",
   "mimetype": "text/x-python",
   "name": "python",
   "nbconvert_exporter": "python",
   "pygments_lexer": "ipython3",
   "version": "3.7.3"
  }
 },
 "nbformat": 4,
 "nbformat_minor": 2
}
