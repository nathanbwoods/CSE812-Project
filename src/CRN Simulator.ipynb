{
 "cells": [
  {
   "cell_type": "markdown",
   "metadata": {},
   "source": [
    "Lets simulate a CRN. We can run a loop for a set number of iterations where each iteration the sensor network can allocate channels to a primary user and secondary users can sense(query) and use unused channels, how they use the channel will affect their trustValue as assessed by other users. Every some number of iterations all the users will use trimessage communication to synchronize their trust values. Each iteration a fraction of secondary users can also try to be malicious by giving other users lower trust scores, giving themself a high trust score, or lying about whether the primary user is in the channel. Since we don't have a data fusion center, other users will have to \"catch\" these lies and adjust trust scores accordingly."
   ]
  },
  {
   "cell_type": "code",
   "execution_count": 2,
   "metadata": {},
   "outputs": [],
   "source": [
    "class SensorNetwork:\n",
    "    users = [] #devices in the network\n",
    "    numChannels = 1 #available channels\n",
    "    \n",
    "    def __init__(self, userlist, channels):\n",
    "        self.users = userlist\n",
    "        self.numChannels = channels\n",
    "    \n",
    "    def allocateChannel(self, val):\n",
    "        #go through users and determine which deserves a channel\n",
    "        if val < self.numChannels:\n",
    "            okay = True\n",
    "            \n",
    "    def synchronizeTrust(self):\n",
    "        for user in users:\n",
    "            user.synchronizeTrust()\n",
    "    "
   ]
  },
  {
   "cell_type": "code",
   "execution_count": 4,
   "metadata": {},
   "outputs": [],
   "source": [
    "class User:\n",
    "    id_value = 0 # this user's id for distinguishability\n",
    "    channelAllocated = False\n",
    "    timeSinceAllocation = 0 # elapsed time since this device used a channel \n",
    "    \n",
    "    def __init__(self, id_val):\n",
    "        self.id_value = id_val\n",
    "    \n",
    "class SecondaryUser(User): \n",
    "    trustValue = 0\n",
    "    users = [] #other users that this device is knows of\n",
    "    trustValues = [] #perceived trust values of other users\n",
    "    \n",
    "    def synchronizeTrust(self):\n",
    "        i = 0\n",
    "        for user in users:\n",
    "            #compare two trust values\n",
    "            dif = self.users[i].trustValue - self.trustValues[i]\n",
    "            i+=1\n",
    "            \n",
    "        \n"
   ]
  },
  {
   "cell_type": "code",
   "execution_count": 5,
   "metadata": {},
   "outputs": [],
   "source": [
    "def initializeUsers(numUsers):\n",
    "    users = []\n",
    "    # Add 1 primary User\n",
    "    # Add Secondary Users to network\n",
    "    for i in range(numUsers):\n",
    "        users.append(SecondaryUser(i))\n",
    "    return users\n",
    "\n",
    "\n",
    "users = initializeUsers(5)\n",
    "network = SensorNetwork(users, 3)\n",
    "        "
   ]
  },
  {
   "cell_type": "code",
   "execution_count": null,
   "metadata": {},
   "outputs": [],
   "source": []
  }
 ],
 "metadata": {
  "kernelspec": {
   "display_name": "Python 3",
   "language": "python",
   "name": "python3"
  },
  "language_info": {
   "codemirror_mode": {
    "name": "ipython",
    "version": 3
   },
   "file_extension": ".py",
   "mimetype": "text/x-python",
   "name": "python",
   "nbconvert_exporter": "python",
   "pygments_lexer": "ipython3",
   "version": "3.7.3"
  }
 },
 "nbformat": 4,
 "nbformat_minor": 2
}